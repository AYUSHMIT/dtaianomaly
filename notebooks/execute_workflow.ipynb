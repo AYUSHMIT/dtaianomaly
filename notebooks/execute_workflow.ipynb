{
 "cells": [
  {
   "cell_type": "markdown",
   "source": [
    "# Execute a workflow\n",
    "\n",
    "A workflow is used to quantitatively evaluate an algorithm on a large set of time series. Here we show how to start a workflow from the code. Notice that all the configurations are dictionaries. Because of this, it is possible to pass a path to a `.json` file, which contains the configuration. More information can be found in the [documentation](https://u0143709.pages.gitlab.kuleuven.be/dtaianomaly/getting_started/large_scale_experiments.html)."
   ],
   "metadata": {
    "collapsed": false
   },
   "id": "64a47c4ff865dbf4"
  },
  {
   "cell_type": "code",
   "execution_count": 1,
   "id": "initial_id",
   "metadata": {
    "collapsed": true,
    "ExecuteTime": {
     "end_time": "2024-02-28T07:52:45.812628Z",
     "start_time": "2024-02-28T07:52:39.326118Z"
    }
   },
   "outputs": [],
   "source": [
    "from dtaianomaly.workflow import execute_algorithms\n",
    "from dtaianomaly.data_management import DataManager\n",
    "from dtaianomaly.anomaly_detection import PyODAnomalyDetector, Windowing"
   ]
  },
  {
   "cell_type": "markdown",
   "source": [
    "First we need to specify which time series to use. It is possible to select time series with specific features (e.g., at least 5 attributes). In particular, we select all datasets from the Demo-collection here. Additionally, we also need a `DataManager` to effectively read the data. "
   ],
   "metadata": {
    "collapsed": false
   },
   "id": "ac60f93cc40642e7"
  },
  {
   "cell_type": "code",
   "execution_count": 2,
   "outputs": [],
   "source": [
    "data_manager = DataManager('../data/datasets.csv')\n",
    "data_configuration = {\n",
    "    'select': [\n",
    "        {'collection_name': 'Demo'}\n",
    "    ]\n",
    "}"
   ],
   "metadata": {
    "collapsed": false,
    "ExecuteTime": {
     "end_time": "2024-02-28T07:52:45.920607Z",
     "start_time": "2024-02-28T07:52:45.816931Z"
    }
   },
   "id": "68db488269763563"
  },
  {
   "cell_type": "markdown",
   "source": [
    "An algorithm configuration can be either a dictionary, which is then passed to the corresponding `load()` function of the correct anomaly detector, or it is a `TimeSeriesAnomalyDetector` object.  "
   ],
   "metadata": {
    "collapsed": false
   },
   "id": "26ba4e766d8b4c0f"
  },
  {
   "cell_type": "code",
   "execution_count": 3,
   "outputs": [],
   "source": [
    "anomaly_detector = PyODAnomalyDetector('IForest', Windowing(64))\n",
    "anomaly_detector_name = 'IForest-window-size-64'"
   ],
   "metadata": {
    "collapsed": false,
    "ExecuteTime": {
     "end_time": "2024-02-28T07:52:45.998413Z",
     "start_time": "2024-02-28T07:52:45.921854Z"
    }
   },
   "id": "deb8af302aa3df89"
  },
  {
   "cell_type": "markdown",
   "source": [
    "The metric configuration dictates which metrics to be computed. If the metric has certain parameters, then these can be passed under the `\"metric_parameters\"` key. If the metric can not cope with reel anomaly scores, some thresholding should be applied. This can be done by giving the `\"thresholding_strategy\"` and `\"thresholding_parameters\"` properties."
   ],
   "metadata": {
    "collapsed": false
   },
   "id": "5783377c665b23d"
  },
  {
   "cell_type": "code",
   "execution_count": 4,
   "outputs": [],
   "source": [
    "metric_configuration = {\n",
    "    \"roc_vus\": { },\n",
    "    \"pr_vus\": { },\n",
    "    \"fbeta\": {\n",
    "        # We do not need to provide the 'metric_parameters', because the default value for beta is 1\n",
    "        \"thresholding_strategy\": \"contamination\",\n",
    "        \"thresholding_parameters\": {\n",
    "            \"contamination\": 0.1\n",
    "        }\n",
    "    },\n",
    "    \"fbeta_05\": {\n",
    "        \"metric_name\": \"fbeta\",\n",
    "        \"metric_parameters\": {\n",
    "            \"beta\": 0.5\n",
    "        },\n",
    "        \"thresholding_strategy\": \"contamination\",\n",
    "        \"thresholding_parameters\": {\n",
    "            \"contamination\": 0.1\n",
    "        }\n",
    "    },\n",
    "    \"fbeta_2\": {\n",
    "        \"metric_name\": \"fbeta\",\n",
    "        \"metric_parameters\": {\n",
    "            \"beta\": 2.0\n",
    "        },\n",
    "        \"thresholding_strategy\": \"contamination\",\n",
    "        \"thresholding_parameters\": {\n",
    "            \"contamination\": 0.1\n",
    "        }\n",
    "    }\n",
    "}"
   ],
   "metadata": {
    "collapsed": false,
    "ExecuteTime": {
     "end_time": "2024-02-28T07:52:46.013860Z",
     "start_time": "2024-02-28T07:52:45.999799Z"
    }
   },
   "id": "5ac60635a05957e9"
  },
  {
   "cell_type": "markdown",
   "source": [
    "Lastly, an output configuration is required. This is not important for algorithm execution itself, but rather for having an indication of what's happening while the workflow is happening. "
   ],
   "metadata": {
    "collapsed": false
   },
   "id": "c2ae63b86d38aed8"
  },
  {
   "cell_type": "code",
   "execution_count": 5,
   "outputs": [],
   "source": [
    "output_configuration = {\n",
    "  \"directory_path\": \"test_workflow\",\n",
    "  \"verbose\": True,\n",
    "\n",
    "  \"trace_time\": True,\n",
    "  \"trace_memory\": True,\n",
    "\n",
    "  \"print_results\": False,\n",
    "  \"save_results\": False,\n",
    "  \"results_file\": \"results.csv\",\n",
    "\n",
    "  \"save_anomaly_scores_plot\": True,\n",
    "  \"anomaly_scores_directory\": \"anomaly_score_plots\",\n",
    "  \"anomaly_scores_file_format\": \"svg\",\n",
    "  \"show_anomaly_scores\": \"overlay\",\n",
    "  \"show_ground_truth\": None,\n",
    "\n",
    "  \"invalid_train_type_raise_error\": True\n",
    "}"
   ],
   "metadata": {
    "collapsed": false,
    "ExecuteTime": {
     "end_time": "2024-02-28T07:52:46.029759Z",
     "start_time": "2024-02-28T07:52:46.016956Z"
    }
   },
   "id": "6888b87678cbab82"
  },
  {
   "cell_type": "markdown",
   "source": [
    "Now, we can execute the workflow simply as follows. "
   ],
   "metadata": {
    "collapsed": false
   },
   "id": "27511ed41293cea4"
  },
  {
   "cell_type": "code",
   "execution_count": 6,
   "outputs": [
    {
     "name": "stdout",
     "output_type": "stream",
     "text": [
      ">>> Starting the workflow for IForest-window-size-64\n",
      ">>> Iterating over the datasets\n",
      "Total number of datasets: 4\n",
      ">>> Handling dataset '('Demo', 'Demo1')'\n",
      ">> Checking  algorithm-dataset compatibility\n",
      ">> Loading the train data\n",
      "Using **test** data but no labels for unsupervised algorithm\n",
      ">> Loading the test data\n",
      ">> Setting the seed to '0'\n",
      ">> Fitting the algorithm\n",
      ">> Predicting the decision scores on the test data\n",
      ">> Storing the results\n",
      "Computing the evaluation metrics metrics\n",
      "Computing the evaluation metric 'roc_vus'\n"
     ]
    },
    {
     "name": "stderr",
     "output_type": "stream",
     "text": [
      "C:\\Users\\louis\\PycharmProjects\\dtaianomaly\\venv\\lib\\site-packages\\sklearn\\utils\\validation.py:931: FutureWarning: Passing attributes to check_is_fitted is deprecated and will be removed in 0.23. The attributes argument is ignored.\n",
      "  warnings.warn(\"Passing attributes to check_is_fitted is deprecated\"\n"
     ]
    },
    {
     "name": "stdout",
     "output_type": "stream",
     "text": [
      "Evaluation: '0.9917555354175803'\n",
      "Computing the evaluation metric 'pr_vus'\n",
      "Evaluation: '0.9867305202782413'\n",
      "Computing the evaluation metric 'fbeta'\n",
      "Evaluation: '0.4946236559139785'\n",
      "Computing the evaluation metric 'fbeta_05'\n",
      "Evaluation: '0.3795379537953795'\n",
      "Computing the evaluation metric 'fbeta_2'\n",
      "Evaluation: '0.7098765432098766'\n",
      "Saving the timing information\n",
      "Saving the memory usage\n",
      ">> Saving the anomaly score plot\n",
      "path: test_workflow/IForest-window-size-64/anomaly_score_plots/demo_demo1.svg\n",
      "format: svg\n",
      "show_anomaly_scores: overlay\n",
      "show_ground_truth: None\n",
      ">>> Handling dataset '('Demo', 'Demo2')'\n",
      ">> Checking  algorithm-dataset compatibility\n",
      ">> Loading the train data\n",
      "Using **test** data but no labels for unsupervised algorithm\n",
      ">> Loading the test data\n",
      ">> Setting the seed to '0'\n",
      ">> Fitting the algorithm\n",
      ">> Predicting the decision scores on the test data\n"
     ]
    },
    {
     "name": "stderr",
     "output_type": "stream",
     "text": [
      "C:\\Users\\louis\\PycharmProjects\\dtaianomaly\\venv\\lib\\site-packages\\sklearn\\utils\\validation.py:931: FutureWarning: Passing attributes to check_is_fitted is deprecated and will be removed in 0.23. The attributes argument is ignored.\n",
      "  warnings.warn(\"Passing attributes to check_is_fitted is deprecated\"\n"
     ]
    },
    {
     "name": "stdout",
     "output_type": "stream",
     "text": [
      ">> Storing the results\n",
      "Computing the evaluation metrics metrics\n",
      "Computing the evaluation metric 'roc_vus'\n",
      "Evaluation: '0.9884359557389997'\n",
      "Computing the evaluation metric 'pr_vus'\n",
      "Evaluation: '0.9242428800732871'\n",
      "Computing the evaluation metric 'fbeta'\n",
      "Evaluation: '0.3216783216783217'\n",
      "Computing the evaluation metric 'fbeta_05'\n",
      "Evaluation: '0.22862823061630222'\n",
      "Computing the evaluation metric 'fbeta_2'\n",
      "Evaluation: '0.5424528301886793'\n",
      "Saving the timing information\n",
      "Saving the memory usage\n",
      ">> Saving the anomaly score plot\n",
      "path: test_workflow/IForest-window-size-64/anomaly_score_plots/demo_demo2.svg\n",
      "format: svg\n",
      "show_anomaly_scores: overlay\n",
      "show_ground_truth: None\n",
      ">>> Handling dataset '('Demo', 'Demo3')'\n",
      ">> Checking  algorithm-dataset compatibility\n",
      ">> Loading the train data\n",
      "Using **test** data but no labels for unsupervised algorithm\n",
      ">> Loading the test data\n",
      ">> Setting the seed to '0'\n",
      ">> Fitting the algorithm\n",
      ">> Predicting the decision scores on the test data\n",
      ">> Storing the results\n",
      "Computing the evaluation metrics metrics\n",
      "Computing the evaluation metric 'roc_vus'\n"
     ]
    },
    {
     "name": "stderr",
     "output_type": "stream",
     "text": [
      "C:\\Users\\louis\\PycharmProjects\\dtaianomaly\\venv\\lib\\site-packages\\sklearn\\utils\\validation.py:931: FutureWarning: Passing attributes to check_is_fitted is deprecated and will be removed in 0.23. The attributes argument is ignored.\n",
      "  warnings.warn(\"Passing attributes to check_is_fitted is deprecated\"\n"
     ]
    },
    {
     "name": "stdout",
     "output_type": "stream",
     "text": [
      "Evaluation: '0.9898335903419229'\n",
      "Computing the evaluation metric 'pr_vus'\n",
      "Evaluation: '0.9546554542183916'\n",
      "Computing the evaluation metric 'fbeta'\n",
      "Evaluation: '0.7267904509283819'\n",
      "Computing the evaluation metric 'fbeta_05'\n",
      "Evaluation: '0.6244302643573383'\n",
      "Computing the evaluation metric 'fbeta_2'\n",
      "Evaluation: '0.8692893401015228'\n",
      "Saving the timing information\n",
      "Saving the memory usage\n",
      ">> Saving the anomaly score plot\n",
      "path: test_workflow/IForest-window-size-64/anomaly_score_plots/demo_demo3.svg\n",
      "format: svg\n",
      "show_anomaly_scores: overlay\n",
      "show_ground_truth: None\n",
      ">>> Handling dataset '('Demo', 'Demo4')'\n",
      ">> Checking  algorithm-dataset compatibility\n",
      ">> Loading the train data\n",
      "Using **test** data but no labels for unsupervised algorithm\n",
      ">> Loading the test data\n",
      ">> Setting the seed to '0'\n",
      ">> Fitting the algorithm\n",
      ">> Predicting the decision scores on the test data\n"
     ]
    },
    {
     "name": "stderr",
     "output_type": "stream",
     "text": [
      "C:\\Users\\louis\\PycharmProjects\\dtaianomaly\\venv\\lib\\site-packages\\sklearn\\utils\\validation.py:931: FutureWarning: Passing attributes to check_is_fitted is deprecated and will be removed in 0.23. The attributes argument is ignored.\n",
      "  warnings.warn(\"Passing attributes to check_is_fitted is deprecated\"\n"
     ]
    },
    {
     "name": "stdout",
     "output_type": "stream",
     "text": [
      ">> Storing the results\n",
      "Computing the evaluation metrics metrics\n",
      "Computing the evaluation metric 'roc_vus'\n",
      "Evaluation: '0.933479342893215'\n",
      "Computing the evaluation metric 'pr_vus'\n",
      "Evaluation: '0.7095242887367348'\n",
      "Computing the evaluation metric 'fbeta'\n",
      "Evaluation: '0.5061425061425061'\n",
      "Computing the evaluation metric 'fbeta_05'\n",
      "Evaluation: '0.45696539485359355'\n",
      "Computing the evaluation metric 'fbeta_2'\n",
      "Evaluation: '0.567180616740088'\n",
      "Saving the timing information\n",
      "Saving the memory usage\n",
      ">> Saving the anomaly score plot\n",
      "path: test_workflow/IForest-window-size-64/anomaly_score_plots/demo_demo4.svg\n",
      "format: svg\n",
      "show_anomaly_scores: overlay\n",
      "show_ground_truth: None\n",
      ">>> Formatting the results of the individual datasets\n"
     ]
    },
    {
     "data": {
      "text/plain": "{'IForest-window-size-64':                              Seed   roc_vus    pr_vus     fbeta  fbeta_05  \\\n collection_name dataset_name                                                \n Demo            Demo1         0.0  0.991756  0.986731  0.494624  0.379538   \n                 Demo2         0.0  0.988436  0.924243  0.321678  0.228628   \n                 Demo3         0.0  0.989834  0.954655   0.72679   0.62443   \n                 Demo4         0.0  0.933479  0.709524  0.506143  0.456965   \n \n                                fbeta_2 Time fit (s) Time predict (s)  \\\n collection_name dataset_name                                           \n Demo            Demo1         0.709877      0.72391          0.16528   \n                 Demo2         0.542453      2.33693          0.64618   \n                 Demo3         0.869289      0.88207          0.23113   \n                 Demo4         0.567181      0.80929          0.26188   \n \n                              Peak memory fit (KiB) Peak memory predict (KiB)  \n collection_name dataset_name                                                  \n Demo            Demo1                   2000.49414                1564.33691  \n                 Demo2                   3203.55957                2517.10645  \n                 Demo3                   3204.77148                2518.27832  \n                 Demo4                   3204.51367                2517.36035  }"
     },
     "execution_count": 6,
     "metadata": {},
     "output_type": "execute_result"
    }
   ],
   "source": [
    "execute_algorithms(\n",
    "    data_manager,\n",
    "    data_configuration, \n",
    "    (anomaly_detector, anomaly_detector_name),\n",
    "    metric_configuration,\n",
    "    output_configuration\n",
    ")"
   ],
   "metadata": {
    "collapsed": false,
    "ExecuteTime": {
     "end_time": "2024-02-28T07:53:37.331816Z",
     "start_time": "2024-02-28T07:52:46.032600Z"
    }
   },
   "id": "2625f7d4c140ff2e"
  },
  {
   "cell_type": "markdown",
   "source": [
    "The workflow has been saved, but for now we will remove the results to clean up the directory."
   ],
   "metadata": {
    "collapsed": false
   },
   "id": "33fe8204e89e658"
  },
  {
   "cell_type": "code",
   "execution_count": 7,
   "outputs": [],
   "source": [
    "import shutil\n",
    "shutil.rmtree(output_configuration['directory_path'])"
   ],
   "metadata": {
    "collapsed": false,
    "ExecuteTime": {
     "end_time": "2024-02-28T07:53:37.346629Z",
     "start_time": "2024-02-28T07:53:37.333820Z"
    }
   },
   "id": "dab4593c0aff599b"
  }
 ],
 "metadata": {
  "kernelspec": {
   "display_name": "Python 3",
   "language": "python",
   "name": "python3"
  },
  "language_info": {
   "codemirror_mode": {
    "name": "ipython",
    "version": 2
   },
   "file_extension": ".py",
   "mimetype": "text/x-python",
   "name": "python",
   "nbconvert_exporter": "python",
   "pygments_lexer": "ipython2",
   "version": "2.7.6"
  }
 },
 "nbformat": 4,
 "nbformat_minor": 5
}
