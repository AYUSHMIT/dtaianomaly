{
 "cells": [
  {
   "cell_type": "markdown",
   "source": [
    "# Execute a workflow\n",
    "\n",
    "A workflow is used to quantitatively evaluate an algorithm on a large set of time series. Here we show how to start a workflow from the code. Notice that all the configurations are dictionaries. Because of this, it is possible to pass a path to a `.json` file, which contains the configuration. More information can be found in the [documentation](https://u0143709.pages.gitlab.kuleuven.be/dtaianomaly/getting_started/experiments.html)."
   ],
   "metadata": {
    "collapsed": false
   },
   "id": "64a47c4ff865dbf4"
  },
  {
   "cell_type": "code",
   "execution_count": 1,
   "id": "initial_id",
   "metadata": {
    "collapsed": true,
    "ExecuteTime": {
     "end_time": "2023-10-26T07:02:58.412923200Z",
     "start_time": "2023-10-26T07:02:57.257945800Z"
    }
   },
   "outputs": [],
   "source": [
    "from dtaianomaly.workflows import execute_algorithm\n",
    "from dtaianomaly.data_management import DataManager\n",
    "from dtaianomaly.anomaly_detection import PyODAnomalyDetector, Windowing"
   ]
  },
  {
   "cell_type": "markdown",
   "source": [
    "First we need to specify which time series to use. It is possible to select time series with specific features (e.g., at least 5 attributes). In particular, we select all datasets from the Demo-collection here. Additionally, we also need a `DataManager` to effectively read the data. "
   ],
   "metadata": {
    "collapsed": false
   },
   "id": "ac60f93cc40642e7"
  },
  {
   "cell_type": "code",
   "execution_count": 2,
   "outputs": [],
   "source": [
    "data_manager = DataManager('../data')\n",
    "data_configuration = {\n",
    "    'select': [\n",
    "        {'collection_name': 'Demo'}\n",
    "    ]\n",
    "}"
   ],
   "metadata": {
    "collapsed": false,
    "ExecuteTime": {
     "end_time": "2023-10-26T07:02:58.447880300Z",
     "start_time": "2023-10-26T07:02:58.412923200Z"
    }
   },
   "id": "68db488269763563"
  },
  {
   "cell_type": "markdown",
   "source": [
    "An algorithm configuration can be either a dictionary, which is then passed to the corresponding `load()` function of the correct anomaly detector, or it is a `TimeSeriesAnomalyDetector` object.  "
   ],
   "metadata": {
    "collapsed": false
   },
   "id": "26ba4e766d8b4c0f"
  },
  {
   "cell_type": "code",
   "execution_count": 3,
   "outputs": [],
   "source": [
    "anomaly_detector = {\n",
    "  \"name\": \"iforest_64\",\n",
    "  \"anomaly_detector\": \"PyODAnomalyDetector\",\n",
    "  \"pyod_model\": \"IForest\",\n",
    "  \"windowing\": {\n",
    "    \"window_size\": 64\n",
    "  }\n",
    "}"
   ],
   "metadata": {
    "collapsed": false,
    "ExecuteTime": {
     "end_time": "2023-10-26T07:02:58.633849400Z",
     "start_time": "2023-10-26T07:02:58.447880300Z"
    }
   },
   "id": "deb8af302aa3df89"
  },
  {
   "cell_type": "markdown",
   "source": [
    "The metric configuration dictates which metrics to be computed. If the metric has certain parameters, then these can be passed under the `\"metric_parameters\"` key. If the metric can not cope with reel anomaly scores, some thresholding should be applied. This can be done by giving the `\"thresholding_strategy\"` and `\"thresholding_parameters\"` properties."
   ],
   "metadata": {
    "collapsed": false
   },
   "id": "5783377c665b23d"
  },
  {
   "cell_type": "code",
   "execution_count": 4,
   "outputs": [],
   "source": [
    "metric_configuration = {\n",
    "    \"roc_vus\": { },\n",
    "    \"pr_vus\": { },\n",
    "    \"fbeta\": {\n",
    "        # We do not need to provide the 'metric_parameters', because the default value for beta is 1\n",
    "        \"thresholding_strategy\": \"contamination\",\n",
    "        \"thresholding_parameters\": {\n",
    "            \"contamination\": 0.1\n",
    "        }\n",
    "    },\n",
    "    \"fbeta_05\": {\n",
    "        \"metric_name\": \"fbeta\",\n",
    "        \"metric_parameters\": {\n",
    "            \"beta\": 0.5\n",
    "        },\n",
    "        \"thresholding_strategy\": \"contamination\",\n",
    "        \"thresholding_parameters\": {\n",
    "            \"contamination\": 0.1\n",
    "        }\n",
    "    },\n",
    "    \"fbeta_2\": {\n",
    "        \"metric_name\": \"fbeta\",\n",
    "        \"metric_parameters\": {\n",
    "            \"beta\": 2.0\n",
    "        },\n",
    "        \"thresholding_strategy\": \"contamination\",\n",
    "        \"thresholding_parameters\": {\n",
    "            \"contamination\": 0.1\n",
    "        }\n",
    "    }\n",
    "}"
   ],
   "metadata": {
    "collapsed": false,
    "ExecuteTime": {
     "end_time": "2023-10-26T07:02:58.649703300Z",
     "start_time": "2023-10-26T07:02:58.637868900Z"
    }
   },
   "id": "5ac60635a05957e9"
  },
  {
   "cell_type": "markdown",
   "source": [
    "Lastly, an output configuration is required. This is not important for algorithm execution itself, but rather for having an indication of what's happening while the workflow is happening. "
   ],
   "metadata": {
    "collapsed": false
   },
   "id": "c2ae63b86d38aed8"
  },
  {
   "cell_type": "code",
   "execution_count": 5,
   "outputs": [],
   "source": [
    "output_configuration = {\n",
    "  \"directory_path\": \"test_workflow\",\n",
    "  \"verbose\": True,\n",
    "\n",
    "  \"trace_time\": True,\n",
    "  \"trace_memory\": True,\n",
    "\n",
    "  \"print_results\": False,\n",
    "  \"save_results\": False,\n",
    "  \"results_file\": \"results.csv\",\n",
    "\n",
    "  \"save_anomaly_scores_plot\": True,\n",
    "  \"anomaly_scores_directory\": \"anomaly_score_plots\",\n",
    "  \"anomaly_scores_file_format\": \"svg\",\n",
    "  \"show_anomaly_scores\": \"overlay\",\n",
    "  \"show_ground_truth\": None,\n",
    "\n",
    "  \"invalid_train_type_raise_error\": True\n",
    "}"
   ],
   "metadata": {
    "collapsed": false,
    "ExecuteTime": {
     "end_time": "2023-10-26T07:02:58.668123600Z",
     "start_time": "2023-10-26T07:02:58.649703300Z"
    }
   },
   "id": "6888b87678cbab82"
  },
  {
   "cell_type": "markdown",
   "source": [
    "Now, we can execute the workflow simply as follows. "
   ],
   "metadata": {
    "collapsed": false
   },
   "id": "27511ed41293cea4"
  },
  {
   "cell_type": "code",
   "execution_count": 6,
   "outputs": [
    {
     "ename": "TypeError",
     "evalue": "cannot unpack non-iterable PyODAnomalyDetector object",
     "output_type": "error",
     "traceback": [
      "\u001B[1;31m---------------------------------------------------------------------------\u001B[0m",
      "\u001B[1;31mTypeError\u001B[0m                                 Traceback (most recent call last)",
      "Cell \u001B[1;32mIn[6], line 1\u001B[0m\n\u001B[1;32m----> 1\u001B[0m \u001B[43mexecute_algorithm\u001B[49m\u001B[43m(\u001B[49m\n\u001B[0;32m      2\u001B[0m \u001B[43m    \u001B[49m\u001B[43mdata_manager\u001B[49m\u001B[43m,\u001B[49m\n\u001B[0;32m      3\u001B[0m \u001B[43m    \u001B[49m\u001B[43mdata_configuration\u001B[49m\u001B[43m,\u001B[49m\u001B[43m \u001B[49m\n\u001B[0;32m      4\u001B[0m \u001B[43m    \u001B[49m\u001B[43manomaly_detector\u001B[49m\u001B[43m,\u001B[49m\n\u001B[0;32m      5\u001B[0m \u001B[43m    \u001B[49m\u001B[43mmetric_configuration\u001B[49m\u001B[43m,\u001B[49m\n\u001B[0;32m      6\u001B[0m \u001B[43m    \u001B[49m\u001B[43moutput_configuration\u001B[49m\n\u001B[0;32m      7\u001B[0m \u001B[43m)\u001B[49m\n",
      "File \u001B[1;32m~\\PycharmProjects\\dtaianomaly\\dtaianomaly\\workflows\\execute_algorithm.py:31\u001B[0m, in \u001B[0;36mmain\u001B[1;34m(data_manager, data_configuration, algorithm_configuration, metric_configuration, output_configuration)\u001B[0m\n\u001B[0;32m     24\u001B[0m \u001B[38;5;28;01mdef\u001B[39;00m \u001B[38;5;21mmain\u001B[39m(data_manager: DataManager,\n\u001B[0;32m     25\u001B[0m          data_configuration: DataConfiguration,\n\u001B[0;32m     26\u001B[0m          algorithm_configuration: AlgorithmConfiguration,\n\u001B[0;32m     27\u001B[0m          metric_configuration: MetricConfiguration,\n\u001B[0;32m     28\u001B[0m          output_configuration: Union[PlainOutputConfiguration, OutputConfiguration]) \u001B[38;5;241m-\u001B[39m\u001B[38;5;241m>\u001B[39m pd\u001B[38;5;241m.\u001B[39mDataFrame:\n\u001B[0;32m     30\u001B[0m     data_manager \u001B[38;5;241m=\u001B[39m handle_data_configuration(data_manager, data_configuration)\n\u001B[1;32m---> 31\u001B[0m     algorithm, algorithm_name \u001B[38;5;241m=\u001B[39m handle_algorithm_configuration(algorithm_configuration)\n\u001B[0;32m     32\u001B[0m     algorithm_train_type \u001B[38;5;241m=\u001B[39m algorithm\u001B[38;5;241m.\u001B[39mtrain_type()\n\u001B[0;32m     33\u001B[0m     metrics \u001B[38;5;241m=\u001B[39m handle_metric_configuration(metric_configuration)\n",
      "\u001B[1;31mTypeError\u001B[0m: cannot unpack non-iterable PyODAnomalyDetector object"
     ]
    }
   ],
   "source": [
    "execute_algorithm(\n",
    "    data_manager,\n",
    "    data_configuration, \n",
    "    anomaly_detector,\n",
    "    metric_configuration,\n",
    "    output_configuration\n",
    ")"
   ],
   "metadata": {
    "collapsed": false,
    "ExecuteTime": {
     "end_time": "2023-10-26T07:02:59.117671900Z",
     "start_time": "2023-10-26T07:02:58.668123600Z"
    }
   },
   "id": "2625f7d4c140ff2e"
  },
  {
   "cell_type": "markdown",
   "source": [
    "The workflow has been save, but for now we will remove the results to clean up the directory."
   ],
   "metadata": {
    "collapsed": false
   },
   "id": "33fe8204e89e658"
  },
  {
   "cell_type": "code",
   "execution_count": null,
   "outputs": [],
   "source": [
    "import shutil\n",
    "shutil.rmtree(output_configuration['directory_path'])"
   ],
   "metadata": {
    "collapsed": false,
    "ExecuteTime": {
     "start_time": "2023-10-26T07:02:59.117671900Z"
    }
   },
   "id": "dab4593c0aff599b"
  }
 ],
 "metadata": {
  "kernelspec": {
   "display_name": "Python 3",
   "language": "python",
   "name": "python3"
  },
  "language_info": {
   "codemirror_mode": {
    "name": "ipython",
    "version": 2
   },
   "file_extension": ".py",
   "mimetype": "text/x-python",
   "name": "python",
   "nbconvert_exporter": "python",
   "pygments_lexer": "ipython2",
   "version": "2.7.6"
  }
 },
 "nbformat": 4,
 "nbformat_minor": 5
}
